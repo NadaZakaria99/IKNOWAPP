{
  "nbformat": 4,
  "nbformat_minor": 0,
  "metadata": {
    "colab": {
      "provenance": []
    },
    "kernelspec": {
      "name": "python3",
      "display_name": "Python 3"
    },
    "language_info": {
      "name": "python"
    }
  },
  "cells": [
    {
      "cell_type": "code",
      "source": [
        "!pip install snowflake -q"
      ],
      "metadata": {
        "colab": {
          "base_uri": "https://localhost:8080/"
        },
        "id": "ngS52zc6JRek",
        "outputId": "158813d3-6bb0-4c65-ae66-999233517c9c"
      },
      "execution_count": 2,
      "outputs": [
        {
          "output_type": "stream",
          "name": "stdout",
          "text": [
            "\u001b[2K     \u001b[90m━━━━━━━━━━━━━━━━━━━━━━━━━━━━━━━━━━━━━━━━\u001b[0m \u001b[32m65.9/65.9 kB\u001b[0m \u001b[31m1.9 MB/s\u001b[0m eta \u001b[36m0:00:00\u001b[0m\n",
            "\u001b[2K   \u001b[90m━━━━━━━━━━━━━━━━━━━━━━━━━━━━━━━━━━━━━━━━\u001b[0m \u001b[32m1.6/1.6 MB\u001b[0m \u001b[31m23.6 MB/s\u001b[0m eta \u001b[36m0:00:00\u001b[0m\n",
            "\u001b[2K   \u001b[90m━━━━━━━━━━━━━━━━━━━━━━━━━━━━━━━━━━━━━━━━\u001b[0m \u001b[32m2.5/2.5 MB\u001b[0m \u001b[31m59.3 MB/s\u001b[0m eta \u001b[36m0:00:00\u001b[0m\n",
            "\u001b[2K   \u001b[90m━━━━━━━━━━━━━━━━━━━━━━━━━━━━━━━━━━━━━━━━\u001b[0m \u001b[32m105.0/105.0 kB\u001b[0m \u001b[31m7.1 MB/s\u001b[0m eta \u001b[36m0:00:00\u001b[0m\n",
            "\u001b[?25h"
          ]
        }
      ]
    },
    {
      "cell_type": "code",
      "execution_count": 14,
      "metadata": {
        "id": "ptW1Vi_zFUAQ"
      },
      "outputs": [],
      "source": [
        "import snowflake.connector\n",
        "import os\n",
        "from typing import Tuple, List\n",
        "import logging\n",
        "\n",
        "# Configure logging\n",
        "logging.basicConfig(level=logging.INFO, format='%(asctime)s - %(levelname)s - %(message)s')\n",
        "logger = logging.getLogger(__name__)\n",
        "\n",
        "# Snowflake connection parameters\n",
        "SNOWFLAKE_CONFIG = {\n",
        "    \"account\": \"dmqagqo-xhb61851\",\n",
        "    \"user\": \"NADA\",\n",
        "    \"password\": \"Pguo822$\",\n",
        "    \"database\": \"CC_QUICKSTART_CORTEX_SEARCH_DOCS_1\",\n",
        "    \"schema\": \"DATA\",\n",
        "    \"warehouse\": \"COMPUTE_WH\"  # Added warehouse config\n",
        "}\n",
        "\n",
        "def upload_to_stage(local_folder: str, file_extensions: Tuple[str, ...] = (\".pdf\",)) -> List[str]:\n",
        "    \"\"\"\n",
        "    Uploads files from a local folder to a Snowflake stage.\n",
        "\n",
        "    Args:\n",
        "        local_folder (str): Path to the local folder containing files to upload\n",
        "        file_extensions (tuple): Tuple of file extensions to filter files (default: (\".pdf\",))\n",
        "\n",
        "    Returns:\n",
        "        List[str]: List of successfully uploaded files\n",
        "    \"\"\"\n",
        "    if not os.path.exists(local_folder):\n",
        "        raise FileNotFoundError(f\"Folder not found: {local_folder}\")\n",
        "\n",
        "    uploaded_files = []\n",
        "\n",
        "    try:\n",
        "        # Connect to Snowflake\n",
        "        ctx = snowflake.connector.connect(\n",
        "            account=SNOWFLAKE_CONFIG[\"account\"],\n",
        "            user=SNOWFLAKE_CONFIG[\"user\"],\n",
        "            password=SNOWFLAKE_CONFIG[\"password\"],\n",
        "            database=SNOWFLAKE_CONFIG[\"database\"],\n",
        "            schema=SNOWFLAKE_CONFIG[\"schema\"],\n",
        "            warehouse=SNOWFLAKE_CONFIG[\"warehouse\"]\n",
        "        )\n",
        "        cursor = ctx.cursor()\n",
        "\n",
        "        # Set context\n",
        "        cursor.execute(f\"USE DATABASE {SNOWFLAKE_CONFIG['database']}\")\n",
        "        cursor.execute(f\"USE SCHEMA {SNOWFLAKE_CONFIG['schema']}\")\n",
        "        cursor.execute(f\"USE WAREHOUSE {SNOWFLAKE_CONFIG['warehouse']}\")\n",
        "\n",
        "        # Get the list of files to upload\n",
        "        files_to_upload = [\n",
        "            os.path.join(local_folder, f)\n",
        "            for f in os.listdir(local_folder)\n",
        "            if f.lower().endswith(tuple(ext.lower() for ext in file_extensions))\n",
        "        ]\n",
        "\n",
        "        if not files_to_upload:\n",
        "            logger.warning(f\"No files found with extensions {file_extensions} in {local_folder}\")\n",
        "            return uploaded_files\n",
        "\n",
        "        # Upload each file to the stage\n",
        "        for file_path in files_to_upload:\n",
        "            try:\n",
        "                logger.info(f\"Uploading {file_path}...\")\n",
        "                # Using the stage name 'DOCS' that we confirmed exists\n",
        "                put_command = f\"PUT 'file://{file_path}' @DOCS AUTO_COMPRESS=FALSE OVERWRITE=TRUE\"\n",
        "                logger.info(f\"Executing command: {put_command}\")\n",
        "                cursor.execute(put_command)\n",
        "                uploaded_files.append(file_path)\n",
        "                logger.info(f\"Successfully uploaded {file_path}\")\n",
        "            except Exception as e:\n",
        "                logger.error(f\"Failed to upload {file_path}: {str(e)}\")\n",
        "\n",
        "        return uploaded_files\n",
        "\n",
        "    except snowflake.connector.errors.ProgrammingError as e:\n",
        "        logger.error(f\"Snowflake connection error: {str(e)}\")\n",
        "        raise\n",
        "    finally:\n",
        "        if 'cursor' in locals():\n",
        "            cursor.close()\n",
        "        if 'ctx' in locals():\n",
        "            ctx.close()\n",
        "\n",
        "if __name__ == \"__main__\":\n",
        "    try:\n",
        "        # Your Google Drive path\n",
        "        local_folder_path = \"/content/drive/MyDrive/sample_data\"\n",
        "        uploaded_files = upload_to_stage(local_folder_path)\n",
        "        if uploaded_files:\n",
        "            logger.info(f\"Successfully uploaded {len(uploaded_files)} files\")\n",
        "            logger.info(\"Uploaded files:\")\n",
        "            for file in uploaded_files:\n",
        "                logger.info(f\"- {file}\")\n",
        "        else:\n",
        "            logger.warning(\"No files were uploaded\")\n",
        "    except Exception as e:\n",
        "        logger.error(f\"Script failed: {str(e)}\")"
      ]
    },
    {
      "cell_type": "code",
      "source": [],
      "metadata": {
        "id": "OqYLiodRJZxM"
      },
      "execution_count": null,
      "outputs": []
    }
  ]
}